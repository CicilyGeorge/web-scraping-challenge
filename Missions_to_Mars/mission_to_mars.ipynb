{
 "cells": [
  {
   "cell_type": "code",
   "execution_count": 1,
   "metadata": {
    "ExecuteTime": {
     "end_time": "2020-11-22T15:16:00.294980Z",
     "start_time": "2020-11-22T15:15:49.919583Z"
    }
   },
   "outputs": [],
   "source": [
    "# Dependencies\n",
    "###\n",
    "import pandas as pd\n",
    "import requests\n",
    "from pprint import pprint\n",
    "import re\n",
    "\n",
    "from bs4 import BeautifulSoup\n",
    "from splinter import Browser\n",
    "from selenium import webdriver"
   ]
  },
  {
   "cell_type": "code",
   "execution_count": 2,
   "metadata": {},
   "outputs": [],
   "source": [
    "# @NOTE: Replace the path with your actual path to the chromedriver\n",
    "executable_path = {'executable_path': 'chromedriver.exe'}\n",
    "browser = Browser('chrome', **executable_path, headless=False)"
   ]
  },
  {
   "cell_type": "markdown",
   "metadata": {},
   "source": [
    "#### NASA Mars News"
   ]
  },
  {
   "cell_type": "code",
   "execution_count": 3,
   "metadata": {
    "ExecuteTime": {
     "end_time": "2020-11-22T15:16:17.261360Z",
     "start_time": "2020-11-22T15:16:00.296982Z"
    },
    "tags": []
   },
   "outputs": [
    {
     "output_type": "stream",
     "name": "stdout",
     "text": [
      "Latest News on NASA Mars Exploration:\n\tTitle: MOXIE Could Help Future Rockets Launch Off Mars\n\tArticle Teaser: NASA's Perseverance rover carries a device to convert Martian air into oxygen that, if produced on a larger scale, could be used not just for breathing, but also for fuel.\n"
     ]
    }
   ],
   "source": [
    "###\n",
    "#Using splinter extracting the Latest News\n",
    "###\n",
    "\n",
    "#Visit Nasa's JPL Mars Space url using splinter\n",
    "url = 'https://mars.nasa.gov/news/'\n",
    "browser.visit(url)\n",
    "\n",
    "#create HTML object\n",
    "html = browser.html\n",
    "soup = BeautifulSoup(html, 'html.parser')\n",
    "\n",
    "# Retrieve the latest news title and news paragraph\n",
    "news_title = soup.find('ul', class_='item_list')\\\n",
    "                 .find('div', class_='content_title')\\\n",
    "                 .find('a').text\n",
    "\n",
    "news_p  = soup.find('ul', class_='item_list').find('div', class_='article_teaser_body').text\n",
    "\n",
    "print(\"Latest News on NASA Mars Exploration:\")\n",
    "print(f\"\\tTitle: {news_title}\")\n",
    "print(f\"\\tArticle Teaser: {news_p}\")\n"
   ]
  },
  {
   "cell_type": "markdown",
   "metadata": {},
   "source": [
    "#### JPL Mars Space Images - Featured Image"
   ]
  },
  {
   "cell_type": "code",
   "execution_count": 14,
   "metadata": {
    "ExecuteTime": {
     "end_time": "2020-11-22T15:16:34.979305Z",
     "start_time": "2020-11-22T15:16:17.263359Z"
    }
   },
   "outputs": [
    {
     "output_type": "stream",
     "name": "stdout",
     "text": [
      "Featured image link: https://www.jpl.nasa.gov/spaceimages/images/wallpaper/PIA17936-1920x1200.jpg\n"
     ]
    }
   ],
   "source": [
    "###\n",
    "# Using splinter Extracting the latest featured Image url\n",
    "### \n",
    "\n",
    "#Visit Nasa's JPL Mars Space url using splinter\n",
    "jpl_url='https://www.jpl.nasa.gov/spaceimages/?search=&category=Mars'\n",
    "browser.visit(jpl_url)\n",
    "\n",
    "#create HTML object\n",
    "html = browser.html\n",
    "soup = BeautifulSoup(html, 'html.parser')\n",
    "\n",
    "#get image url from the soup object.\n",
    "featured_image_url = soup.find('div', class_='carousel_items')\\\n",
    "                         .find('article').attrs['style'][23:-3]\n",
    "\n",
    "# get base Nasa jpl link\n",
    "base_url = 'https://www.jpl.nasa.gov'\n",
    "\n",
    "# Create one full image url link\n",
    "featured_image_url = base_url + featured_image_url\n",
    "\n",
    "print(f\"Featured image link: {featured_image_url}\")"
   ]
  },
  {
   "cell_type": "markdown",
   "metadata": {},
   "source": [
    "#### Mars Facts"
   ]
  },
  {
   "cell_type": "code",
   "execution_count": 37,
   "metadata": {
    "ExecuteTime": {
     "end_time": "2020-11-22T15:16:37.543588Z",
     "start_time": "2020-11-22T15:16:34.981311Z"
    }
   },
   "outputs": [
    {
     "output_type": "stream",
     "name": "stdout",
     "text": [
      "Mars Planet Profile\n                                              Value\nFeature                                            \nEquatorial Diameter:                       6,792 km\nPolar Diameter:                            6,752 km\nMass:                 6.39 × 10^23 kg (0.11 Earths)\nMoons:                          2 (Phobos & Deimos)\nOrbit Distance:            227,943,824 km (1.38 AU)\nOrbit Period:                  687 days (1.9 years)\nSurface Temperature:                   -87 to -5 °C\nFirst Record:                     2nd millennium BC\nRecorded By:                   Egyptian astronomers\n"
     ]
    }
   ],
   "source": [
    "###\n",
    "# Using splinter Extracting the Mars facts table\n",
    "###\n",
    "url = 'https://space-facts.com/mars/'\n",
    "tables = pd.read_html(url)\n",
    "df = tables[0]\n",
    "df.columns = ['Feature', 'Value']\n",
    "df.set_index('Feature', inplace=True)\n",
    "\n",
    "print(\"Mars Planet Profile\")\n",
    "print(df)"
   ]
  },
  {
   "cell_type": "code",
   "execution_count": 38,
   "metadata": {
    "ExecuteTime": {
     "end_time": "2020-11-22T15:16:37.590897Z",
     "start_time": "2020-11-22T15:16:37.544569Z"
    }
   },
   "outputs": [
    {
     "output_type": "stream",
     "name": "stdout",
     "text": [
      "('<table border=\"1\" class=\"dataframe\">\\n'\n '  \\n'\n '  <tbody>\\n'\n '    <tr>\\n'\n '      <th>Equatorial Diameter:</th>\\n'\n '      <td>6,792 km</td>\\n'\n '    </tr>\\n'\n '    <tr>\\n'\n '      <th>Polar Diameter:</th>\\n'\n '      <td>6,752 km</td>\\n'\n '    </tr>\\n'\n '    <tr>\\n'\n '      <th>Mass:</th>\\n'\n '      <td>6.39 × 10^23 kg (0.11 Earths)</td>\\n'\n '    </tr>\\n'\n '    <tr>\\n'\n '      <th>Moons:</th>\\n'\n '      <td>2 (Phobos &amp; Deimos)</td>\\n'\n '    </tr>\\n'\n '    <tr>\\n'\n '      <th>Orbit Distance:</th>\\n'\n '      <td>227,943,824 km (1.38 AU)</td>\\n'\n '    </tr>\\n'\n '    <tr>\\n'\n '      <th>Orbit Period:</th>\\n'\n '      <td>687 days (1.9 years)</td>\\n'\n '    </tr>\\n'\n '    <tr>\\n'\n '      <th>Surface Temperature:</th>\\n'\n '      <td>-87 to -5 °C</td>\\n'\n '    </tr>\\n'\n '    <tr>\\n'\n '      <th>First Record:</th>\\n'\n '      <td>2nd millennium BC</td>\\n'\n '    </tr>\\n'\n '    <tr>\\n'\n '      <th>Recorded By:</th>\\n'\n '      <td>Egyptian astronomers</td>\\n'\n '    </tr>\\n'\n '  </tbody>\\n'\n '</table>')\n"
     ]
    }
   ],
   "source": [
    "html_table = df.to_html()\n",
    "\n",
    "html_table = re.sub('<thead.+?</thead>','',html_table,flags=re.DOTALL)\n",
    "pprint(html_table)\n",
    "html_table = html_table.replace('\\n', '')\n",
    "\n",
    "with open('table.html', 'w') as file:\n",
    "    file.write(html_table)"
   ]
  },
  {
   "cell_type": "markdown",
   "metadata": {},
   "source": [
    "#### Mars Hemispheres"
   ]
  },
  {
   "cell_type": "code",
   "execution_count": 39,
   "metadata": {
    "ExecuteTime": {
     "end_time": "2020-11-22T16:54:04.267916Z",
     "start_time": "2020-11-22T16:53:47.804591Z"
    }
   },
   "outputs": [
    {
     "output_type": "stream",
     "name": "stdout",
     "text": [
      "[{'img_url': 'https://astropedia.astrogeology.usgs.gov/download/Mars/Viking/cerberus_enhanced.tif/full.jpg',\n  'title': 'Cerberus Hemisphere'},\n {'img_url': 'https://astropedia.astrogeology.usgs.gov/download/Mars/Viking/schiaparelli_enhanced.tif/full.jpg',\n  'title': 'Schiaparelli Hemisphere'},\n {'img_url': 'https://astropedia.astrogeology.usgs.gov/download/Mars/Viking/syrtis_major_enhanced.tif/full.jpg',\n  'title': 'Syrtis Major Hemisphere'},\n {'img_url': 'https://astropedia.astrogeology.usgs.gov/download/Mars/Viking/valles_marineris_enhanced.tif/full.jpg',\n  'title': 'Valles Marineris Hemisphere'}]\n"
     ]
    }
   ],
   "source": [
    "###\n",
    "# Using splinter Extracting the latest featured Image url\n",
    "### \n",
    "\n",
    "#Visit Nasa's JPL Mars Space url using splinter\n",
    "hemisphere_url='https://astrogeology.usgs.gov/search/results?q=hemisphere+enhanced&k1=target&v1=Mars'\n",
    "browser.visit(hemisphere_url)\n",
    "\n",
    "#create HTML object\n",
    "html = browser.html\n",
    "soup = BeautifulSoup(html, 'html.parser')\n",
    "\n",
    "#get image url from the soup object.\n",
    "results = soup.find_all('div', class_='description')\n",
    "\n",
    "#get base Nasa mars hemisphere link\n",
    "base_url = 'https://astrogeology.usgs.gov'\n",
    "\n",
    "# An empty list to hold a dictionary of Hemisphere image title and url \n",
    "hemisphere_image_urls = []\n",
    " # Loop through returned results\n",
    "for result in results:\n",
    "    try:\n",
    "        # Retrieve the Hemisphere title\n",
    "        title = result.find('h3').text[:-9]\n",
    "        link = base_url + result.a['href']\n",
    "\n",
    "        browser.visit(link)\n",
    "        page = browser.html\n",
    "        img_soup = BeautifulSoup(page, 'html.parser')\n",
    "        img_url = img_soup.find('div', class_='downloads').find('a').attrs['href']\n",
    "        \n",
    "        img_dict = {'title':title, 'img_url':img_url}\n",
    "        hemisphere_image_urls.append(img_dict)\n",
    "        \n",
    "    except AttributeError as e:\n",
    "        print(e)\n",
    "        \n",
    "pprint(hemisphere_image_urls)"
   ]
  },
  {
   "cell_type": "code",
   "execution_count": null,
   "metadata": {},
   "outputs": [],
   "source": []
  }
 ],
 "metadata": {
  "hide_input": false,
  "kernelspec": {
   "name": "python3",
   "display_name": "Python 3.7.9 64-bit ('python31': conda)",
   "metadata": {
    "interpreter": {
     "hash": "af77bfd962b283650722a36cbd33717ca2439e358c4dc09a16649a68b66778b5"
    }
   }
  },
  "language_info": {
   "codemirror_mode": {
    "name": "ipython",
    "version": 3
   },
   "file_extension": ".py",
   "mimetype": "text/x-python",
   "name": "python",
   "nbconvert_exporter": "python",
   "pygments_lexer": "ipython3",
   "version": "3.7.9-final"
  },
  "toc": {
   "base_numbering": 1,
   "nav_menu": {},
   "number_sections": true,
   "sideBar": true,
   "skip_h1_title": false,
   "title_cell": "Table of Contents",
   "title_sidebar": "Contents",
   "toc_cell": false,
   "toc_position": {},
   "toc_section_display": true,
   "toc_window_display": false
  },
  "varInspector": {
   "cols": {
    "lenName": 16,
    "lenType": 16,
    "lenVar": 40
   },
   "kernels_config": {
    "python": {
     "delete_cmd_postfix": "",
     "delete_cmd_prefix": "del ",
     "library": "var_list.py",
     "varRefreshCmd": "print(var_dic_list())"
    },
    "r": {
     "delete_cmd_postfix": ") ",
     "delete_cmd_prefix": "rm(",
     "library": "var_list.r",
     "varRefreshCmd": "cat(var_dic_list()) "
    }
   },
   "types_to_exclude": [
    "module",
    "function",
    "builtin_function_or_method",
    "instance",
    "_Feature"
   ],
   "window_display": false
  }
 },
 "nbformat": 4,
 "nbformat_minor": 4
}